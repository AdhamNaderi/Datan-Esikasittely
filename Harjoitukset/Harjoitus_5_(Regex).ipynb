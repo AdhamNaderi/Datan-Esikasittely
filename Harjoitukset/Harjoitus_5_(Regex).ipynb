{
 "cells": [
  {
   "cell_type": "markdown",
   "metadata": {},
   "source": [
    "# Regex-tehtävät"
   ]
  },
  {
   "cell_type": "markdown",
   "metadata": {},
   "source": [
    "Regex-tehtäväosiossa käytetään kyseistä syntaksia esimerkkitekstiin, jonka pohja on haettu täältä: https://loremipsum.io/."
   ]
  },
  {
   "cell_type": "code",
   "execution_count": 6,
   "metadata": {},
   "outputs": [],
   "source": [
    "example_text = \"Lorem ipsum dolorolo at sit amet, consectetur ipsumm adipiscing elit, sed do eiusmod tempor incididunt ut labore et dolore magna aliqua. Ut enim ad minim veniam, quis nostrud exercitation ullamco (laboris) nisi ut (aliquip) ex ea commodo consequat. [192.168.1.1:8080] Duis aute irure dolor in reprehenderit in voluptate velit esse cillum dolore eu fugiat nulla pariatur. Excepteur sint occaecat cupidatat non proident, sunt in culpa qui officia deserunt mollit anim id est laborum. [192.168.1.254:80]\""
   ]
  },
  {
   "cell_type": "markdown",
   "metadata": {},
   "source": [
    "#### Tehtävä 1. Lisää tarvittavat kirjastot"
   ]
  },
  {
   "cell_type": "code",
   "execution_count": 4,
   "metadata": {},
   "outputs": [],
   "source": [
    "import re"
   ]
  },
  {
   "cell_type": "markdown",
   "metadata": {},
   "source": [
    "#### Tehtävä 2. Etsi tekstistä kuinka monta kertaa sana `ipsum` esiintyy"
   ]
  },
  {
   "cell_type": "code",
   "execution_count": 61,
   "metadata": {},
   "outputs": [
    {
     "name": "stdout",
     "output_type": "stream",
     "text": [
      "['ipsum']\n"
     ]
    }
   ],
   "source": [
    "ipsum_search = re.findall(r\"\\bipsum\\b\", example_text)\n",
    "\n",
    "print(ipsum_search)\n"
   ]
  },
  {
   "cell_type": "markdown",
   "metadata": {},
   "source": [
    "#### Tehtävä 3. Etsi tekstistä kuinka monta kertaa merkkijono (ei siis sana!) `ipsum` esiintyy"
   ]
  },
  {
   "cell_type": "code",
   "execution_count": 66,
   "metadata": {},
   "outputs": [
    {
     "name": "stdout",
     "output_type": "stream",
     "text": [
      "['ipsum', 'ipsum']\n"
     ]
    }
   ],
   "source": [
    "ipsum_search = re.findall(r\"ipsum\", example_text)\n",
    "\n",
    "print(ipsum_search)"
   ]
  },
  {
   "cell_type": "markdown",
   "metadata": {},
   "source": [
    "#### Tehtävä 4. Hae tekstistä kaikki sanan `Excepteur` jälkeen (Huom: sanaa Excepteur ei oteta mukaan tulosteeseen!)"
   ]
  },
  {
   "cell_type": "code",
   "execution_count": 56,
   "metadata": {},
   "outputs": [
    {
     "name": "stdout",
     "output_type": "stream",
     "text": [
      "['sint occaecat cupidatat non proident, sunt in culpa qui officia deserunt mollit anim id est laborum. [192.168.1.254:80]']\n"
     ]
    }
   ],
   "source": [
    "excepteur_jalkeen = re.findall(r\"Excepteur\\s+(.*)\", example_text)\n",
    "\n",
    "print(excepteur_jalkeen)\n"
   ]
  },
  {
   "cell_type": "markdown",
   "metadata": {},
   "source": [
    "#### Tehtävä 5. Etsi kaikki sanat, jotka ovat sulkujen `()` sisällä"
   ]
  },
  {
   "cell_type": "code",
   "execution_count": 57,
   "metadata": {},
   "outputs": [
    {
     "name": "stdout",
     "output_type": "stream",
     "text": [
      "['laboris', 'aliquip']\n"
     ]
    }
   ],
   "source": [
    "sulkujen_sisalla = re.findall(r\"\\(([^)]+)\\)\", example_text)\n",
    "\n",
    "print(sulkujen_sisalla)"
   ]
  },
  {
   "cell_type": "markdown",
   "metadata": {},
   "source": [
    "#### Tehtävä 6. Valitse kaikki sanat, jotka päättyvät merkkeihin `at`."
   ]
  },
  {
   "cell_type": "code",
   "execution_count": 70,
   "metadata": {},
   "outputs": [
    {
     "name": "stdout",
     "output_type": "stream",
     "text": [
      "['uat', 'iat', 'cat', 'tat']\n"
     ]
    }
   ],
   "source": [
    "at_paattyvat = re.findall(r\"\\wat\\b\", example_text)\n",
    "print(at_paattyvat)"
   ]
  },
  {
   "cell_type": "markdown",
   "metadata": {},
   "source": [
    "#### Tehtävä 7. Etsi sanat, jotka sisältävät merkkijonon `olo`, mutta eivät ala tai pääty kyseisellä merkkijonolla"
   ]
  },
  {
   "cell_type": "code",
   "execution_count": 78,
   "metadata": {},
   "outputs": [
    {
     "name": "stdout",
     "output_type": "stream",
     "text": [
      "['dolorolo', 'dolore', 'dolor', 'dolore']\n"
     ]
    }
   ],
   "source": [
    "olo_sisaltavat = re.findall(r\"\\b(?!olo\\b)\\w*olo\\w*(?!\\bolo\\b)\\b\", example_text)\n",
    "print(olo_sisaltavat)"
   ]
  },
  {
   "cell_type": "markdown",
   "metadata": {},
   "source": [
    "#### Tehtävä 8. Etsi seuraava kaikki osoitteet, jotka ovat muotoa ip-osoite:porttinumero (esim. 192.168.1.1:8080) ilman staattista hakua tai `r'\\[.*?\\]'`/vastaavaa kaiken hakasulkeiden sisältä palauttavaa syntaksia."
   ]
  },
  {
   "cell_type": "code",
   "execution_count": 80,
   "metadata": {},
   "outputs": [
    {
     "name": "stdout",
     "output_type": "stream",
     "text": [
      "['192.168.1.1:8080', '192.168.1.254:80']\n"
     ]
    }
   ],
   "source": [
    "ip_osoite = re.findall(r\"\\b(?:\\d{1,3}\\.\\d{1,3}\\.\\d{1,3}\\.\\d{1,3}:\\d{1,5})\\b\", example_text)\n",
    "print(ip_osoite)"
   ]
  }
 ],
 "metadata": {
  "kernelspec": {
   "display_name": "Python 3 (ipykernel)",
   "language": "python",
   "name": "python3"
  },
  "language_info": {
   "codemirror_mode": {
    "name": "ipython",
    "version": 3
   },
   "file_extension": ".py",
   "mimetype": "text/x-python",
   "name": "python",
   "nbconvert_exporter": "python",
   "pygments_lexer": "ipython3",
   "version": "3.9.13"
  }
 },
 "nbformat": 4,
 "nbformat_minor": 2
}
