{
 "cells": [
  {
   "cell_type": "markdown",
   "metadata": {},
   "source": [
    "## SQLite-tehtävät"
   ]
  },
  {
   "cell_type": "markdown",
   "metadata": {},
   "source": [
    "#### Tehtävä 1. Lisää tarvittavat kirjastot ja tee `testi.db` niminen tietokanta (SQLite3)"
   ]
  },
  {
   "cell_type": "code",
   "execution_count": 2,
   "metadata": {},
   "outputs": [],
   "source": [
    "import sqlite3\n",
    "import pandas as pd\n",
    "from sqlalchemy import create_engine"
   ]
  },
  {
   "cell_type": "code",
   "execution_count": 3,
   "metadata": {},
   "outputs": [],
   "source": [
    "tietokanta = sqlite3.connect(\"testi.db\")\n",
    "yhteys = tietokanta.cursor()"
   ]
  },
  {
   "cell_type": "markdown",
   "metadata": {},
   "source": [
    "#### Tehtävä 2. Luo yhteys tietokantaan"
   ]
  },
  {
   "cell_type": "code",
   "execution_count": 4,
   "metadata": {},
   "outputs": [
    {
     "data": {
      "text/plain": [
       "<sqlite3.Connection at 0x197b587dd50>"
      ]
     },
     "execution_count": 4,
     "metadata": {},
     "output_type": "execute_result"
    }
   ],
   "source": [
    "tietokanta"
   ]
  },
  {
   "cell_type": "markdown",
   "metadata": {},
   "source": [
    "#### Tehtävä 3. Tee tietokantaan seuraavanlainen taulu, jonka nimi on `henkilotaulu`:\n",
    "    \n",
    "| Nimi        | Ika           | Kengankoko  |\n",
    "| ------------- |-------------| -----|\n",
    "| Teppo      | 88 | 47 |\n",
    "| Matti      | 34     | 39 |\n",
    "| Ilona | 41      |    36 |\n",
    "| Sonja | 32      |    37 |"
   ]
  },
  {
   "cell_type": "code",
   "execution_count": 5,
   "metadata": {},
   "outputs": [
    {
     "data": {
      "text/html": [
       "<div>\n",
       "<style scoped>\n",
       "    .dataframe tbody tr th:only-of-type {\n",
       "        vertical-align: middle;\n",
       "    }\n",
       "\n",
       "    .dataframe tbody tr th {\n",
       "        vertical-align: top;\n",
       "    }\n",
       "\n",
       "    .dataframe thead th {\n",
       "        text-align: right;\n",
       "    }\n",
       "</style>\n",
       "<table border=\"1\" class=\"dataframe\">\n",
       "  <thead>\n",
       "    <tr style=\"text-align: right;\">\n",
       "      <th></th>\n",
       "      <th>Nimi</th>\n",
       "      <th>Ika</th>\n",
       "      <th>Kengankoko</th>\n",
       "    </tr>\n",
       "  </thead>\n",
       "  <tbody>\n",
       "    <tr>\n",
       "      <th>0</th>\n",
       "      <td>Teppo</td>\n",
       "      <td>88</td>\n",
       "      <td>47</td>\n",
       "    </tr>\n",
       "    <tr>\n",
       "      <th>1</th>\n",
       "      <td>Matti</td>\n",
       "      <td>34</td>\n",
       "      <td>39</td>\n",
       "    </tr>\n",
       "    <tr>\n",
       "      <th>2</th>\n",
       "      <td>Ilona</td>\n",
       "      <td>41</td>\n",
       "      <td>36</td>\n",
       "    </tr>\n",
       "    <tr>\n",
       "      <th>3</th>\n",
       "      <td>Sonja</td>\n",
       "      <td>32</td>\n",
       "      <td>37</td>\n",
       "    </tr>\n",
       "  </tbody>\n",
       "</table>\n",
       "</div>"
      ],
      "text/plain": [
       "    Nimi  Ika  Kengankoko\n",
       "0  Teppo   88          47\n",
       "1  Matti   34          39\n",
       "2  Ilona   41          36\n",
       "3  Sonja   32          37"
      ]
     },
     "execution_count": 5,
     "metadata": {},
     "output_type": "execute_result"
    }
   ],
   "source": [
    "tietokanta = sqlite3.connect(\"henkilotaulu.db\")\n",
    "\n",
    "tietokanta.execute(\"CREATE TABLE IF NOT EXISTS henkilotaulu(Nimi TEXT, Ika INTEGER, Kengankoko INTEGER)\")\n",
    "\n",
    "data_rows = [(\"Teppo\", 88, 47), (\"Matti\", 34, 39), (\"Ilona\", 41, 36), (\"Sonja\", 32, 37),\n",
    "             (\"Teppo\", 88, 47), (\"Matti\", 34, 39), (\"Ilona\", 41, 36), (\"Sonja\", 32, 37),\n",
    "             (\"Teppo\", 88, 47), (\"Matti\", 34, 39), (\"Ilona\", 41, 36), (\"Sonja\", 32, 37)]\n",
    "\n",
    "for row in data_rows:\n",
    "    tietokanta.execute(\"INSERT INTO henkilotaulu VALUES (?, ?, ?)\", row)\n",
    "\n",
    "tietokanta.commit()\n",
    "\n",
    "query = \"SELECT * FROM henkilotaulu\"\n",
    "df = pd.read_sql_query(query, tietokanta)\n",
    "\n",
    "df_no_duplicates = df.drop_duplicates()\n",
    "\n",
    "hatunkoko_df = pd.DataFrame(df_no_duplicates)\n",
    "\n",
    "tietokanta.commit()\n",
    "\n",
    "hatunkoko_df\n",
    "\n",
    "\n"
   ]
  },
  {
   "cell_type": "markdown",
   "metadata": {},
   "source": [
    "#### Tehtävä 4. Kun Taulu on tehty, niin hae taulu Pandasin DataFrame-objektiin ja lisää siihen sarake `Hatunkoko`, jonka jälkeen täytä se valitsemillasi arvoilla"
   ]
  },
  {
   "cell_type": "code",
   "execution_count": 7,
   "metadata": {},
   "outputs": [
    {
     "data": {
      "text/html": [
       "<div>\n",
       "<style scoped>\n",
       "    .dataframe tbody tr th:only-of-type {\n",
       "        vertical-align: middle;\n",
       "    }\n",
       "\n",
       "    .dataframe tbody tr th {\n",
       "        vertical-align: top;\n",
       "    }\n",
       "\n",
       "    .dataframe thead th {\n",
       "        text-align: right;\n",
       "    }\n",
       "</style>\n",
       "<table border=\"1\" class=\"dataframe\">\n",
       "  <thead>\n",
       "    <tr style=\"text-align: right;\">\n",
       "      <th></th>\n",
       "      <th>Nimi</th>\n",
       "      <th>Ika</th>\n",
       "      <th>Kengankoko</th>\n",
       "      <th>Hatunkoko</th>\n",
       "    </tr>\n",
       "  </thead>\n",
       "  <tbody>\n",
       "    <tr>\n",
       "      <th>0</th>\n",
       "      <td>Teppo</td>\n",
       "      <td>88</td>\n",
       "      <td>47</td>\n",
       "      <td>4</td>\n",
       "    </tr>\n",
       "    <tr>\n",
       "      <th>1</th>\n",
       "      <td>Matti</td>\n",
       "      <td>34</td>\n",
       "      <td>39</td>\n",
       "      <td>5</td>\n",
       "    </tr>\n",
       "    <tr>\n",
       "      <th>2</th>\n",
       "      <td>Ilona</td>\n",
       "      <td>41</td>\n",
       "      <td>36</td>\n",
       "      <td>6</td>\n",
       "    </tr>\n",
       "    <tr>\n",
       "      <th>3</th>\n",
       "      <td>Sonja</td>\n",
       "      <td>32</td>\n",
       "      <td>37</td>\n",
       "      <td>7</td>\n",
       "    </tr>\n",
       "  </tbody>\n",
       "</table>\n",
       "</div>"
      ],
      "text/plain": [
       "    Nimi  Ika  Kengankoko  Hatunkoko\n",
       "0  Teppo   88          47          4\n",
       "1  Matti   34          39          5\n",
       "2  Ilona   41          36          6\n",
       "3  Sonja   32          37          7"
      ]
     },
     "execution_count": 7,
     "metadata": {},
     "output_type": "execute_result"
    }
   ],
   "source": [
    "df = pd.DataFrame(df_no_duplicates)\n",
    "\n",
    "df_no_duplicates[\"Hatunkoko\"] = [4,5,6,7]\n",
    "    \n",
    "df_no_duplicates\n",
    "\n"
   ]
  },
  {
   "cell_type": "markdown",
   "metadata": {},
   "source": [
    "#### Tehtävä 5. Tee DataFrame-objektista kopio, jonka nimi on `henkilotaulukopio` ja lisää siihen rivi valitsemillasi arvoilla. Tallenna tämä muokattu dataframe-objekti nyt tietokantaan nimellä `henkilotaulukopio` (tulee edellisen taulun rinnalle)."
   ]
  },
  {
   "cell_type": "code",
   "execution_count": 10,
   "metadata": {},
   "outputs": [
    {
     "data": {
      "text/html": [
       "<div>\n",
       "<style scoped>\n",
       "    .dataframe tbody tr th:only-of-type {\n",
       "        vertical-align: middle;\n",
       "    }\n",
       "\n",
       "    .dataframe tbody tr th {\n",
       "        vertical-align: top;\n",
       "    }\n",
       "\n",
       "    .dataframe thead th {\n",
       "        text-align: right;\n",
       "    }\n",
       "</style>\n",
       "<table border=\"1\" class=\"dataframe\">\n",
       "  <thead>\n",
       "    <tr style=\"text-align: right;\">\n",
       "      <th></th>\n",
       "      <th>Nimi</th>\n",
       "      <th>Ika</th>\n",
       "      <th>Kengankoko</th>\n",
       "      <th>Hatunkoko</th>\n",
       "    </tr>\n",
       "  </thead>\n",
       "  <tbody>\n",
       "    <tr>\n",
       "      <th>0</th>\n",
       "      <td>Teppo</td>\n",
       "      <td>88</td>\n",
       "      <td>47</td>\n",
       "      <td>4</td>\n",
       "    </tr>\n",
       "    <tr>\n",
       "      <th>1</th>\n",
       "      <td>Matti</td>\n",
       "      <td>34</td>\n",
       "      <td>39</td>\n",
       "      <td>5</td>\n",
       "    </tr>\n",
       "    <tr>\n",
       "      <th>2</th>\n",
       "      <td>Ilona</td>\n",
       "      <td>41</td>\n",
       "      <td>36</td>\n",
       "      <td>6</td>\n",
       "    </tr>\n",
       "    <tr>\n",
       "      <th>3</th>\n",
       "      <td>Sonja</td>\n",
       "      <td>32</td>\n",
       "      <td>37</td>\n",
       "      <td>7</td>\n",
       "    </tr>\n",
       "    <tr>\n",
       "      <th>4</th>\n",
       "      <td>Tarja</td>\n",
       "      <td>55</td>\n",
       "      <td>35</td>\n",
       "      <td>8</td>\n",
       "    </tr>\n",
       "  </tbody>\n",
       "</table>\n",
       "</div>"
      ],
      "text/plain": [
       "    Nimi  Ika  Kengankoko  Hatunkoko\n",
       "0  Teppo   88          47          4\n",
       "1  Matti   34          39          5\n",
       "2  Ilona   41          36          6\n",
       "3  Sonja   32          37          7\n",
       "4  Tarja   55          35          8"
      ]
     },
     "execution_count": 10,
     "metadata": {},
     "output_type": "execute_result"
    }
   ],
   "source": [
    "df_no_duplicates = pd.read_sql_query(\"SELECT * FROM df_no_duplicates\", tietokanta)\n",
    "\n",
    "df_no_duplicates = df_no_duplicates[df_no_duplicates['Nimi'] != 'Tarja']\n",
    "\n",
    "df_no_duplicates.to_sql(name=\"df_no_duplicates\", con=tietokanta, if_exists='replace', index=False)\n",
    "\n",
    "tietokanta.commit()\n",
    "\n",
    "henkilotaulukopio = pd.read_sql_query(\"SELECT * FROM henkilotaulukopio\", tietokanta)\n",
    "\n",
    "vanha_df = pd.DataFrame(df_no_duplicates)\n",
    "uusi_df = pd.DataFrame(henkilotaulukopio)\n",
    "\n",
    "vanha_df\n",
    "uusi_df\n",
    "\n",
    "#En ymmärrä minkä takia se ei tulosta DataFrame objekteja vierekkäin,\n",
    "#mutta jos niitä kokeilee yksitellen ne tulostuvat hienosti pd.DataFrame objekteina.\n",
    "#Tämän takia olen laittanut useampaan paikkaan tietokanta.commit()\n",
    "#jospa se kyseinen df_no_duplicates tallentuu tietokantaan.\n",
    "#En ole löytänyt syytä mutta yksitellen ne tulostuvat DataFrame objekteina.\n"
   ]
  },
  {
   "cell_type": "markdown",
   "metadata": {},
   "source": [
    "#### Tehtävä 6. Tallenna lopuksi tietokannan muutokset ja sulje yhteys"
   ]
  },
  {
   "cell_type": "code",
   "execution_count": 187,
   "metadata": {},
   "outputs": [],
   "source": [
    "tietokanta.commit()\n",
    "\n",
    "tietokanta.close()"
   ]
  }
 ],
 "metadata": {
  "kernelspec": {
   "display_name": "Python 3 (ipykernel)",
   "language": "python",
   "name": "python3"
  },
  "language_info": {
   "codemirror_mode": {
    "name": "ipython",
    "version": 3
   },
   "file_extension": ".py",
   "mimetype": "text/x-python",
   "name": "python",
   "nbconvert_exporter": "python",
   "pygments_lexer": "ipython3",
   "version": "3.9.13"
  }
 },
 "nbformat": 4,
 "nbformat_minor": 2
}
